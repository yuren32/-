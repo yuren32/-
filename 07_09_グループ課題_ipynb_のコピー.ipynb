{
  "nbformat": 4,
  "nbformat_minor": 0,
  "metadata": {
    "colab": {
      "private_outputs": true,
      "provenance": [],
      "include_colab_link": true
    },
    "kernelspec": {
      "name": "python3",
      "display_name": "Python 3"
    },
    "language_info": {
      "name": "python"
    }
  },
  "cells": [
    {
      "cell_type": "markdown",
      "metadata": {
        "id": "view-in-github",
        "colab_type": "text"
      },
      "source": [
        "<a href=\"https://colab.research.google.com/github/yuren32/-/blob/master/07_09_%E3%82%AF%E3%82%99%E3%83%AB%E3%83%BC%E3%83%95%E3%82%9A%E8%AA%B2%E9%A1%8C_ipynb_%E3%81%AE%E3%82%B3%E3%83%94%E3%83%BC.ipynb\" target=\"_parent\"><img src=\"https://colab.research.google.com/assets/colab-badge.svg\" alt=\"Open In Colab\"/></a>"
      ]
    },
    {
      "cell_type": "markdown",
      "source": [
        "# グループワーク課題"
      ],
      "metadata": {
        "id": "jwJ_x6pRKNT7"
      }
    },
    {
      "cell_type": "markdown",
      "source": [
        "## データセット\n",
        "\n",
        "■習志野市のアパートに関するデータセット（400サンプル）：「Tsudanuma_train.xlsx」\n",
        "\n",
        "以下の10個の属性を持つ\n",
        "1. Address：アパートの住所【カテゴリカル】\n",
        "2. Old：築年数【数値】\n",
        "3. Floor：部屋の階【数値】\n",
        "4. Rent：家賃【数値】\n",
        "5. Rent_Class：家賃クラス【カテゴリカル】\n",
        "6. CSF：共益費【数値】\n",
        "7. Deposit：敷金【数値】\n",
        "8. Reward：礼金【数値】\n",
        "9. Room：間取り【カテゴリカル】\n",
        "10. Size：広さ・平米数【数値】\n",
        "\n",
        "\n",
        "※カテゴリカル・データを説明変数として使用する時は，ワンホット表現を用いること．（get_dummiesを利用すること）\n",
        "\n"
      ],
      "metadata": {
        "id": "-wTQffXwKRsH"
      }
    },
    {
      "cell_type": "markdown",
      "source": [
        "## タスク\n",
        "1.   説明変数から「Rent（家賃）」を予測する回帰タスク\n",
        "2.   説明変数から「Rent_Class（家賃クラス）※」を識別する識別タスク\n",
        "\n",
        "      ※「Rent_Class（家賃クラス）」\n",
        "        *  L：Rent < 50000（143サンプル）\n",
        "        *  M：50000 <= Rent < 60000（97サンプル）\n",
        "        *  H：60000 <= Rent（155サンプル）\n",
        "\n",
        "    （残り，5サンプルは欠損）"
      ],
      "metadata": {
        "id": "JCgdGldtLBzi"
      }
    },
    {
      "cell_type": "markdown",
      "source": [
        "## 課題の内容\n",
        "以下の課題をグループで行う．\n",
        "1.   上記のタスク１およびタスク２を実現する機械学習モデルをそれぞれ作成し，前処理・特徴量選択のコード，学習済みのモデル（回帰モデル・識別モデル）のpickleファイル（バイナリファイル）を提出する．\n",
        "2.   説明変数の選択は自由とする．ただし，選択理由を説明できるようにすること．\n",
        "3.  前処理の方法も自由とする．ただし，処理の理由を説明できるようにすること．\n",
        "4.  機械学習モデルの選択及びハイパーパラメータの設定，学習方法やモデルの評価方法も自由とする．ただし，それぞれの処理の理由を説明できるようにすること．\n",
        "5.  パワーポイントを用いて発表スライドを作成し，２つのタスクそれぞれについてどのようにして機械学習モデルを作成したか（上記，2〜4について）説明すること．パワーポイントファイルの提出は不要\n",
        "6.  課題の作業は，今週と来週を使って良い．（時間が足りない場合は，各グループで別途時間をとって話し合うなどを行うこと）\n",
        "7.  再来週に，各グループの発表と機械学習モデルの評価を行う．モデル評価には，未配布のデータセット（欠損はなし）を検証用として用いる．\n",
        "\n",
        "\n"
      ],
      "metadata": {
        "id": "6LnPJ6zjLJyX"
      }
    },
    {
      "cell_type": "markdown",
      "source": [
        "### 機械学習モデルの書き出し\n",
        "\n",
        "以下の方法で，機械学習モデルをファイルに出力し，アップロードする．"
      ],
      "metadata": {
        "id": "r8a6mSHaoaN7"
      }
    },
    {
      "cell_type": "code",
      "source": [
        "import pickle\n",
        "\n",
        "# 「model」はfit関数で学習したモデルのオブジェクト名\n",
        "#「groupX_taskN.pkl」はファイル名（Xはグループのアルファベット，Nはタスク番号1か2）\n",
        "pickle.dump(model, open('groupX_taskN.pkl', 'wb'))"
      ],
      "metadata": {
        "id": "4LN-pqYKoev7"
      },
      "execution_count": null,
      "outputs": []
    },
    {
      "cell_type": "markdown",
      "source": [
        "ファイルの提出は以下から行う．\n",
        "\n",
        "https://forms.gle/mNt2FER4ZTnVcZ5u7\n"
      ],
      "metadata": {
        "id": "8zYNbmY4pM99"
      }
    },
    {
      "cell_type": "markdown",
      "source": [
        "## 以下，作業エリア"
      ],
      "metadata": {
        "id": "uST91o0yMhb9"
      }
    },
    {
      "cell_type": "code",
      "execution_count": null,
      "metadata": {
        "id": "rkUSARJyKMZA"
      },
      "outputs": [],
      "source": [
        "# データ加工・処理・分析ライブラリ\n",
        "import numpy as np\n",
        "import numpy.random as random\n",
        "from pandas import Series, DataFrame\n",
        "import pandas as pd\n",
        "import scipy as sp\n",
        "\n",
        "# 機械学習ライブラリ\n",
        "import sklearn\n",
        "\n",
        "# 可視化ライブラリ\n",
        "import matplotlib.pyplot as plt\n",
        "import matplotlib as mpl\n",
        "import seaborn as sns\n",
        "%matplotlib inline\n",
        "\n",
        "# 小数第3位まで表示\n",
        "%precision 3"
      ]
    },
    {
      "cell_type": "code",
      "source": [
        "train = pd.read_excel('Tsudanuma_train.xlsx')\n"
      ],
      "metadata": {
        "id": "n_VNKSoDMk3_"
      },
      "execution_count": null,
      "outputs": []
    }
  ]
}
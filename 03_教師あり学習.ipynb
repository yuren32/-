{
  "nbformat": 4,
  "nbformat_minor": 0,
  "metadata": {
    "colab": {
      "provenance": [],
      "collapsed_sections": [
        "MJomSRK3I3Fd"
      ],
      "include_colab_link": true
    },
    "kernelspec": {
      "name": "python3",
      "display_name": "Python 3"
    }
  },
  "cells": [
    {
      "cell_type": "markdown",
      "metadata": {
        "id": "view-in-github",
        "colab_type": "text"
      },
      "source": [
        "<a href=\"https://colab.research.google.com/github/yuren32/-/blob/master/03_%E6%95%99%E5%B8%AB%E3%81%82%E3%82%8A%E5%AD%A6%E7%BF%92.ipynb\" target=\"_parent\"><img src=\"https://colab.research.google.com/assets/colab-badge.svg\" alt=\"Open In Colab\"/></a>"
      ]
    },
    {
      "cell_type": "markdown",
      "metadata": {
        "id": "9q2W7MPZ0HUd"
      },
      "source": [
        "#教師あり学習（Supervised Learning）Part 1\n",
        "\n"
      ]
    },
    {
      "cell_type": "markdown",
      "metadata": {
        "id": "0PiyW8aXXi0o"
      },
      "source": [
        "### 　教師あり学習とは"
      ]
    },
    {
      "cell_type": "markdown",
      "metadata": {
        "id": "HxvyK5uVXaaA"
      },
      "source": [
        "教師あり学習＝説明変数（入力）と目的変数（出力）を対応付ける関数を作ること．"
      ]
    },
    {
      "cell_type": "markdown",
      "metadata": {
        "id": "PCJ1k3X3WZgz"
      },
      "source": [
        "【教師あり学習の手順】\n",
        "\n",
        "1.  データ（説明変数と目的変数を含む学習データ）を用意する\n",
        "2.  データの整理・前処理，特徴抽出をする\n",
        "3.  データを訓練（training）用と検証（test）用に分割し，訓練用データを使って学習モデルのパラメータをチューニングする（＝学習，モデル構築）\n",
        "4.  検証用データを使って， 構築したモデル（学習後のモデル）の性能を評価する"
      ]
    },
    {
      "cell_type": "markdown",
      "metadata": {
        "id": "86Z4mQ-m0PXd"
      },
      "source": [
        "###使用するライブラリの読み込み"
      ]
    },
    {
      "cell_type": "code",
      "metadata": {
        "id": "ityFSVJb0SRO"
      },
      "source": [
        "# データ加工・処理・分析ライブラリ\n",
        "import numpy as np\n",
        "import numpy.random as random\n",
        "from pandas import Series, DataFrame\n",
        "import pandas as pd\n",
        "import scipy as sp\n",
        "\n",
        "# 機械学習ライブラリ\n",
        "import sklearn\n",
        "\n",
        "# 可視化ライブラリ\n",
        "import matplotlib.pyplot as plt\n",
        "import matplotlib as mpl\n",
        "import seaborn as sns\n",
        "%matplotlib inline\n",
        "\n",
        "# 小数第3位まで表示\n",
        "%precision 3"
      ],
      "execution_count": null,
      "outputs": []
    },
    {
      "cell_type": "markdown",
      "metadata": {
        "id": "LOkqG1iOIz3s"
      },
      "source": [
        "##重回帰"
      ]
    },
    {
      "cell_type": "markdown",
      "metadata": {
        "id": "J9IxJrOKKlLK"
      },
      "source": [
        "【テストデータセット】：https://archive.ics.uci.edu/ml/datasets/automobile\n",
        "\n",
        "【対象問題】自動車の属性（大きさや種類，エンジンなど）からその自動車の価格を予測する"
      ]
    },
    {
      "cell_type": "markdown",
      "metadata": {
        "id": "I7agYnjvlWOg"
      },
      "source": [
        "####■データの読み込み"
      ]
    },
    {
      "cell_type": "code",
      "metadata": {
        "id": "qga56JdHI2wE"
      },
      "source": [
        "\n",
        "import requests, zipfile\n",
        "import io\n",
        "\n",
        "# 自動車価格データを取得\n",
        "url = 'http://archive.ics.uci.edu/ml/machine-learning-databases/autos/imports-85.data'\n",
        "res = requests.get(url).content\n",
        "\n",
        "# 取得したデータをDataFrameオブジェクトとして読み込み\n",
        "auto = pd.read_csv(io.StringIO(res.decode('utf-8')), header=None)\n",
        "\n",
        "# データの列にラベルを設定\n",
        "auto.columns =['symboling','normalized_losses','make','fuel_type' ,'aspiration','num_of_doors',\n",
        "                            'body_style','drive_wheels','engine_location','wheel_base','length','width','height',\n",
        "                            'curb_weight','engine_type','num_of_cylinders','engine_size','fuel_system','bore',\n",
        "                            'stroke','compression_ratio','horsepower','peak_rpm','city_mpg','highway_mpg','price']"
      ],
      "execution_count": null,
      "outputs": []
    },
    {
      "cell_type": "code",
      "metadata": {
        "id": "O_CWv5yTMkvI"
      },
      "source": [
        "#全部表示設定\n",
        "#pd.set_option('display.max_rows', None)\n",
        "#pd.set_option('display.max_columns', None)\n",
        "\n",
        "display(auto)\n",
        "print(auto.shape)\n",
        "display(auto.info())\n",
        "\n"
      ],
      "execution_count": null,
      "outputs": []
    },
    {
      "cell_type": "markdown",
      "metadata": {
        "id": "GiiO8uH0d0fl"
      },
      "source": [
        "####■データの整理，前処理\n",
        "*  ここでは簡単に，peak_rpm，width，heightという３つの説明変数から，priceという目的変数を予測するというモデルを作成する\n",
        "*  実際は，priceを予測するのにどのような説明変数を使えばよいかを考えることが重要となる（特徴量選択）\n",
        "*  特徴量選択の方法には，「変数増加法（前進的選択法）」「変数減少法（後退的選択法）」などがある．また，「AIC（赤池情報量基準）」「BIC（ベイズ情報量基準）」「MDL」や「汎化誤差」などの評価基準を用いた方法や，組み合わせ最適化問題を解くアルゴリズム（遺伝的アルゴリズムなど）を利用する方法などがある．しかし，いずれの方法も絶対的に有効とは言えないため，様々な観点から検討する必要がある．\n",
        "*  また，データセットの値をそのまま使うのではなく，何かしらの数学的理論や手法に基づいて，新たな数値を算出して用いる場合もある"
      ]
    },
    {
      "cell_type": "code",
      "metadata": {
        "id": "U82NlqLLVmgy"
      },
      "source": [
        "#peak-rpm，width，height, priceだけにする\n",
        "auto2 = auto[['peak_rpm','width','height','price']]\n",
        "display(auto2)"
      ],
      "execution_count": null,
      "outputs": []
    },
    {
      "cell_type": "code",
      "metadata": {
        "id": "cv1tETD2e5x-"
      },
      "source": [
        "#各カラムに「?」が何個あるかカウント\n",
        "auto2.isin(['?']).sum()"
      ],
      "execution_count": null,
      "outputs": []
    },
    {
      "cell_type": "code",
      "metadata": {
        "id": "4mO6jWuGlRwc"
      },
      "source": [
        "# '?'をNaNに置換し，NaNがある行を削除\n",
        "auto2 = auto2.replace('?', np.nan).dropna()\n",
        "print(auto2.shape)"
      ],
      "execution_count": null,
      "outputs": []
    },
    {
      "cell_type": "code",
      "metadata": {
        "id": "2ZmFXbBWiIQF"
      },
      "source": [
        "#型をチェック\n",
        "print(auto2.dtypes)\n"
      ],
      "execution_count": null,
      "outputs": []
    },
    {
      "cell_type": "code",
      "source": [
        "#priceがobjectなので，数値型に変換\n",
        "auto2 = auto2.assign(peak_rpm=pd.to_numeric(auto2.peak_rpm))\n",
        "auto2 = auto2.assign(price=pd.to_numeric(auto2.price))\n",
        "\n",
        "#型を再チェック\n",
        "print(auto2.dtypes)"
      ],
      "metadata": {
        "id": "vJZxVNtvD72H"
      },
      "execution_count": null,
      "outputs": []
    },
    {
      "cell_type": "code",
      "metadata": {
        "id": "5SU4ZVEYkoXj"
      },
      "source": [
        "#相関を見てみる\n",
        "auto2.corr()"
      ],
      "execution_count": null,
      "outputs": []
    },
    {
      "cell_type": "markdown",
      "metadata": {
        "id": "7mkds4W5MHzG"
      },
      "source": [
        "*  重回帰分析においては，相関の高い変数を使用すると多重共線性（multi-collonearity）が生じる\n",
        "*  多重共線性＝相関の高い変数の回帰係数の分散が大きくなり，係数の優位性が失われてしまう現象\n",
        "*  一般的に，重回帰に限らず，相関の強い変数（特徴量）は，どれか1つあればで良い"
      ]
    },
    {
      "cell_type": "code",
      "metadata": {
        "id": "xdZv7UKFbMaM"
      },
      "source": [
        "#データを　説明変数X　と　目的変数y　に分ける\n",
        "X = auto2.drop('price', axis=1)\n",
        "y = auto2['price']\n",
        "\n",
        "print(X)\n",
        "print(y)"
      ],
      "execution_count": null,
      "outputs": []
    },
    {
      "cell_type": "markdown",
      "metadata": {
        "id": "L8T-jAdxTXGX"
      },
      "source": [
        "####■学習（モデル構築）\n",
        "\n",
        "*   重回帰においては，説明変数を入力すると，目的変数を正しく出力できるような演算となるように，モデル係数，残差を推定すること\n",
        "\n",
        "\n",
        "\n",
        "\n",
        "\n",
        "\n",
        "\n"
      ]
    },
    {
      "cell_type": "code",
      "metadata": {
        "id": "VVb06p3da-uz"
      },
      "source": [
        "#訓練データ，テストデータ分割\n",
        "from sklearn.model_selection import train_test_split\n",
        "\n",
        "X_train, X_test, y_train, y_test = train_test_split(X, y, test_size=0.5, random_state=0)\n",
        "\n",
        "print(X_train.shape)\n",
        "print(X_test.shape)\n",
        "print(y_train.shape)\n",
        "print(y_test.shape)"
      ],
      "execution_count": null,
      "outputs": []
    },
    {
      "cell_type": "code",
      "metadata": {
        "id": "OTHuPuJtTi9U"
      },
      "source": [
        "from sklearn.linear_model import LinearRegression\n",
        "\n",
        "#モデルの初期化と学習\n",
        "mlr_model = LinearRegression()\n",
        "mlr_model.fit(X_train, y_train)\n",
        "\n",
        "#モデルの概要\n",
        "display(mlr_model)\n",
        "print('---------------')\n",
        "\n",
        "#構築したモデルのパラメータ（回帰係数と残差）の値\n",
        "print(pd.Series(mlr_model.coef_, index=X.columns))\n",
        "print('---------------')\n",
        "print(mlr_model.intercept_)"
      ],
      "execution_count": null,
      "outputs": []
    },
    {
      "cell_type": "markdown",
      "metadata": {
        "id": "4fDjdJWXZclD"
      },
      "source": [
        "####■評価（モデル検証）"
      ]
    },
    {
      "cell_type": "code",
      "metadata": {
        "id": "YOAi86evZf89"
      },
      "source": [
        "# 構築したモデルで予測\n",
        "y_pred = mlr_model.predict(X_test)\n",
        "\n",
        "#実際の値と予測値の確認\n",
        "print(y_test)\n",
        "print(y_pred)"
      ],
      "execution_count": null,
      "outputs": []
    },
    {
      "cell_type": "code",
      "metadata": {
        "id": "7WC5FSdzgn3x"
      },
      "source": [
        "# 訓練データに対するスコア（決定係数）の算出\n",
        "result = mlr_model.score(X_train, y_train)\n",
        "print(result)"
      ],
      "execution_count": null,
      "outputs": []
    },
    {
      "cell_type": "code",
      "metadata": {
        "id": "4TjZqDoZg4eV"
      },
      "source": [
        "# テストデータに対するスコア（決定係数）の算出\n",
        "result = mlr_model.score(X_test, y_test)\n",
        "print(result)"
      ],
      "execution_count": null,
      "outputs": []
    },
    {
      "cell_type": "markdown",
      "source": [
        "###【演習課題】他の特徴量を選択して，回帰（予測）の精度を上げてみよう．\n",
        "\n",
        "ただし，ここでは問題を簡単にするために，値が数値の特徴量（UCI機械学習レポジトリーで「Type」の項目が「Integer」か「Continuous」のもののうち，値が数値のもの）の中から選択すること．"
      ],
      "metadata": {
        "id": "_-WNvwPaFFMk"
      }
    },
    {
      "cell_type": "code",
      "source": [
        "#自動車データをmyautoにコピー\n",
        "myauto = auto.copy()"
      ],
      "metadata": {
        "id": "6IVRK3tKFM1q"
      },
      "execution_count": null,
      "outputs": []
    },
    {
      "cell_type": "code",
      "source": [
        "#コピーしたmyautoを使って，以下に処理を書いてみよう\n",
        "\n"
      ],
      "metadata": {
        "id": "jxDS2DWVFjaF"
      },
      "execution_count": null,
      "outputs": []
    },
    {
      "cell_type": "markdown",
      "metadata": {
        "id": "MJomSRK3I3Fd"
      },
      "source": [
        "##ロジスティック回帰"
      ]
    },
    {
      "cell_type": "markdown",
      "metadata": {
        "id": "jo0TE2T2l0i6"
      },
      "source": [
        "■重回帰を参考に，以下の問題を自分で解いてみよう\n",
        "* 【テストデータセット】重回帰と同じ自動車データセット\n",
        "* 【問題設定】任意の説明変数を6つ選び，makeを目的変数として識別する．ただし，makeは，日本メーカーと海外メーカーの2値に変換して，識別する．\n",
        "\n",
        "*  日本メーカー =  honda, isuzu, mazda, mitsubishi, nissan, subaru, toyota\n",
        "*  海外メーカー = alfa-romero, audi, bmw, chevrolet, dodge, jaguar, mercedes-benz, mercury,  peugot, plymouth, porsche,\n",
        "renault, saab, volkswagen, volvo\n"
      ]
    },
    {
      "cell_type": "markdown",
      "metadata": {
        "id": "y10b60jVoinM"
      },
      "source": [
        "■ヒント\n",
        "*  ロジスティック回帰は，「from sklearn.linear_model import LogisticRegression」を用いる\n",
        "* make変数をどのように二値化するかがポイント\n",
        "1.   PandasのDataFrameの「replace」を使う方法\n",
        "2.   PandasのDataFrameの「loc」や「at」を使う方法\n",
        "3.   lambda式を使う方法\n",
        "\n",
        "\n",
        "*  各説明変数は，それぞれの単位や大きさが異なっているため，モデルの学習が値の大きな変数に引っ張られ値の小さな変数の影響が小さくなる懸念がある．それを避けるには，前処理として説明変数を標準化する．標準化することで識別精度が向上する可能性がある．"
      ]
    },
    {
      "cell_type": "code",
      "metadata": {
        "id": "7ixpni48I8wg"
      },
      "source": [
        "#二値化のヒント\n",
        "\n",
        "df = pd.DataFrame([[\"Ichiro\", 33, 175.3, 61.1],\n",
        "                   [\"Jiro\", 25, 185.3, 93.1],\n",
        "                   [\"Saburo\", 22, 170.3, 57.9],\n",
        "                   [\"Shiro\", 17, 165.1, 54.5],\n",
        "                   [\"Goro\", 15, 155.3, 43.2],\n",
        "                   [\"Rokuro\", 15, 155.3, 43.2]\n",
        "                   ])\n",
        "df.columns = ['Name', 'Age', 'Tall', 'Weight']\n",
        "display(df)\n"
      ],
      "execution_count": null,
      "outputs": []
    },
    {
      "cell_type": "code",
      "source": [
        "#replaceの使用例\n",
        "df['Name'].replace('Ichiro', '一郎', inplace=True)\n",
        "\n",
        "display(df)"
      ],
      "metadata": {
        "id": "ZQqj2uoWUAB1"
      },
      "execution_count": null,
      "outputs": []
    },
    {
      "cell_type": "code",
      "source": [
        "\n",
        "#ワンホット表現という{0,1}にする\n",
        "pd.get_dummies()\n",
        "\n",
        "#名義尺度（勝手な数字に割り当て）\n",
        "pd.factorize()\n"
      ],
      "metadata": {
        "id": "vkhu3cpgkM6s"
      },
      "execution_count": null,
      "outputs": []
    },
    {
      "cell_type": "code",
      "source": [
        "\n",
        "url = 'http://archive.ics.uci.edu/ml/machine-learning-databases/autos/imports-85.data'\n",
        "res = requests.get(url).content\n",
        "\n",
        "# 取得したデータをDataFrameオブジェクトとして読み込み\n",
        "auto = pd.read_csv(io.StringIO(res.decode('utf-8')), header=None)\n",
        "\n",
        "# データの列にラベルを設定\n",
        "auto.columns =['symboling','normalized_losses','make','fuel_type' ,'aspiration','num_of_doors',\n",
        "                            'body_style','drive_wheels','engine_location','wheel_base','length','width','height',\n",
        "                            'curb_weight','engine_type','num_of_cylinders','engine_size','fuel_system','bore',\n",
        "                            'stroke','compression_ratio','horsepower','peak_rpm','city_mpg','highway_mpg','price']\n"
      ],
      "metadata": {
        "id": "C3QgKr2hlkwZ"
      },
      "execution_count": null,
      "outputs": []
    },
    {
      "cell_type": "code",
      "source": [
        "#factorizeの方法\n",
        "auto2 = auto.copy()\n",
        "auto2 = auto2.replace('?', np.nan).dropna()\n",
        "\n",
        "col_name = ['fuel_type', 'aspiration', 'num_of_doors', 'body_style', 'drive_wheels', 'engine_location', 'engine_type', 'num_of_cylinders', 'fuel_system']\n",
        "for c in col_name:\n",
        "    auto2[c] = auto2[c].factorize()[0]\n",
        "\n",
        "display(auto2)\n"
      ],
      "metadata": {
        "id": "dyMJnjXVlpjE"
      },
      "execution_count": null,
      "outputs": []
    },
    {
      "cell_type": "code",
      "source": [
        "#get_dummiesの方法\n",
        "auto2 = auto.copy()\n",
        "auto2 = auto2.replace('?', np.nan).dropna()\n",
        "\n",
        "\n",
        "col_name = ['fuel_type', 'aspiration', 'num_of_doors', 'body_style', 'drive_wheels', 'engine_location', 'engine_type', 'num_of_cylinders', 'fuel_system']\n",
        "\n",
        "\n",
        "auto3 = pd.get_dummies(auto2, columns=col_name)\n",
        "display(auto3)\n"
      ],
      "metadata": {
        "id": "Xb4Ixb2GoG-z"
      },
      "execution_count": null,
      "outputs": []
    }
  ]
}